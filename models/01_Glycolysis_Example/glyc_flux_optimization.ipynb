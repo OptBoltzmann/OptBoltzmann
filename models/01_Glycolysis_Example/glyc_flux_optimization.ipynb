{
 "cells": [
  {
   "cell_type": "code",
   "execution_count": 1,
   "metadata": {},
   "outputs": [],
   "source": [
    "\n",
    "#import neccessary packages\n",
    "\n",
    "import numpy as np\n",
    "import pandas as pd\n",
    "import subprocess\n",
    "import sys\n",
    "import re\n",
    "import os\n",
    "import warnings\n",
    "\n",
    "\n",
    "import pickle\n",
    "\n",
    "\n",
    "\n",
    "from scipy.optimize import least_squares\n",
    "from IPython.core.display import display\n",
    "from IPython.core.debugger import set_trace\n",
    "pd.set_option('display.max_columns', None,'display.max_rows', None)\n",
    "\n",
    "warnings.filterwarnings('ignore')\n",
    "\n",
    "from importlib import reload\n"
   ]
  },
  {
   "cell_type": "code",
   "execution_count": 2,
   "metadata": {},
   "outputs": [
    {
     "ename": "ModuleNotFoundError",
     "evalue": "No module named 'base_functions'",
     "output_type": "error",
     "traceback": [
      "\u001b[0;31m---------------------------------------------------------------------------\u001b[0m",
      "\u001b[0;31mModuleNotFoundError\u001b[0m                       Traceback (most recent call last)",
      "\u001b[0;32m/var/folders/z1/nhct2gps3y94tkbwqvvd7y_jw6p1l8/T/ipykernel_62920/3062729249.py\u001b[0m in \u001b[0;36m<module>\u001b[0;34m\u001b[0m\n\u001b[1;32m      7\u001b[0m \u001b[0;34m\u001b[0m\u001b[0m\n\u001b[1;32m      8\u001b[0m \u001b[0;34m\u001b[0m\u001b[0m\n\u001b[0;32m----> 9\u001b[0;31m \u001b[0;32mimport\u001b[0m \u001b[0mbase_functions\u001b[0m \u001b[0;32mas\u001b[0m \u001b[0mbaf\u001b[0m\u001b[0;34m\u001b[0m\u001b[0;34m\u001b[0m\u001b[0m\n\u001b[0m\u001b[1;32m     10\u001b[0m \u001b[0;32mimport\u001b[0m \u001b[0mflux_opt\u001b[0m \u001b[0;32mas\u001b[0m \u001b[0mfopt\u001b[0m\u001b[0;34m\u001b[0m\u001b[0;34m\u001b[0m\u001b[0m\n\u001b[1;32m     11\u001b[0m \u001b[0;34m\u001b[0m\u001b[0m\n",
      "\u001b[0;31mModuleNotFoundError\u001b[0m: No module named 'base_functions'"
     ]
    }
   ],
   "source": [
    "# Import the neccessary modules\n",
    "\n",
    "Module_path = '../Modules'  #specify path to modules folder, change as needed for environment\n",
    "\n",
    "\n",
    "sys.path.insert(0,Module_path)\n",
    "\n",
    "\n",
    "import base_functions as baf\n",
    "import flux_opt as fopt\n",
    "\n",
    "\n",
    "reload(fopt)\n",
    "reload(baf)\n",
    "\n",
    "\n"
   ]
  },
  {
   "cell_type": "markdown",
   "metadata": {},
   "source": [
    "## IMPORT A MODEL"
   ]
  },
  {
   "cell_type": "code",
   "execution_count": 13,
   "metadata": {},
   "outputs": [],
   "source": [
    "\n",
    "model_file = 'glycolosis_tca_ppp_prot4.pkl'\n",
    "\n",
    "\n",
    "#Load the model file\n",
    "S, Keq, f_log_counts, vcount_upper_bound = baf.numpy_model_preprocessing(model_file)\n"
   ]
  },
  {
   "cell_type": "markdown",
   "metadata": {},
   "source": [
    "## OPTIMIZE FLUX"
   ]
  },
  {
   "cell_type": "markdown",
   "metadata": {},
   "source": [
    "##### Set flux objective coefficients"
   ]
  },
  {
   "cell_type": "code",
   "execution_count": 18,
   "metadata": {},
   "outputs": [],
   "source": [
    "#for this example will simply maximize flux through all reactions equally\n",
    "\n",
    "n_react = S.shape[0]\n",
    "obj_coefs = np.ones(n_react)"
   ]
  },
  {
   "cell_type": "code",
   "execution_count": 19,
   "metadata": {},
   "outputs": [
    {
     "name": "stdout",
     "output_type": "stream",
     "text": [
      "Ipopt 3.14.4: max_iter=10000\n",
      "max_cpu_time=800000\n",
      "tol=1e-07\n",
      "acceptable_tol=1e-06\n",
      "linear_solver=ma57\n",
      "hsllib=/opt/coinhsl/lib/libcoinhsl.dylib\n",
      "\n",
      "\n",
      "******************************************************************************\n",
      "This program contains Ipopt, a library for large-scale nonlinear optimization.\n",
      " Ipopt is released as open source code under the Eclipse Public License (EPL).\n",
      "         For more information visit https://github.com/coin-or/Ipopt\n",
      "******************************************************************************\n",
      "\n",
      "This is Ipopt version 3.14.4, running with linear solver ma57.\n",
      "\n",
      "Number of nonzeros in equality constraint Jacobian...:      296\n",
      "Number of nonzeros in inequality constraint Jacobian.:      286\n",
      "Number of nonzeros in Lagrangian Hessian.............:       58\n",
      "\n",
      "Input Error: Incorrect refinement scheme.\n",
      "Total number of variables............................:      145\n",
      "                     variables with only lower bounds:        0\n",
      "                variables with lower and upper bounds:       29\n",
      "                     variables with only upper bounds:        0\n",
      "Total number of equality constraints.................:      116\n",
      "Total number of inequality constraints...............:      141\n",
      "        inequality constraints with only lower bounds:       56\n",
      "   inequality constraints with lower and upper bounds:        0\n",
      "        inequality constraints with only upper bounds:       85\n",
      "\n",
      "iter    objective    inf_pr   inf_du lg(mu)  ||d||  lg(rg) alpha_du alpha_pr  ls\n",
      "   0 -9.6132910e+02 2.84e+00 1.44e+00  -1.0 0.00e+00    -  0.00e+00 0.00e+00   0\n",
      "   1 -1.0012481e+03 3.07e+00 5.06e+00  -1.0 1.86e+02    -  6.50e-01 1.85e-01f  1\n",
      "   2 -1.0062235e+03 3.07e+00 5.09e+00  -1.0 6.15e+02    -  1.89e-02 1.20e-02f  1\n",
      "   3 -1.0119673e+03 2.99e+00 4.70e+00  -1.0 2.01e+02  -2.0 6.42e-03 2.64e-02f  1\n",
      "   4 -1.0246972e+03 2.95e+00 4.50e+00  -1.0 2.07e+02  -2.5 3.37e-02 3.61e-02f  1\n",
      "   5 -1.0359740e+03 2.88e+00 4.68e+00  -1.0 4.09e+02  -3.0 4.41e-02 2.32e-02f  1\n",
      "   6 -1.0488784e+03 2.82e+00 1.15e+01  -1.0 7.91e+02  -2.5 7.75e-02 2.16e-02f  1\n",
      "   7 -1.2686843e+03 2.38e+00 9.76e+00  -1.0 6.63e+02    -  7.90e-02 1.56e-01f  1\n",
      "   8 -1.4085782e+03 2.24e+00 9.87e+00  -1.0 9.12e+02    -  1.18e-01 5.95e-02f  1\n",
      "   9 -1.6388827e+03 2.08e+00 1.16e+01  -1.0 1.33e+03    -  1.60e-01 7.03e-02f  1\n",
      "iter    objective    inf_pr   inf_du lg(mu)  ||d||  lg(rg) alpha_du alpha_pr  ls\n",
      "  10 -2.0119915e+03 1.90e+00 1.56e+01  -1.0 1.79e+03    -  1.55e-01 8.34e-02f  1\n",
      "  11 -1.9582173e+03 1.87e+00 2.62e+01  -1.0 1.73e+03    -  8.55e-02 1.70e-02h  1\n",
      "  12 -1.6069444e+03 1.69e+00 3.92e+01  -1.0 1.77e+03    -  2.20e-01 1.00e-01h  2\n",
      "  13 -8.3519928e+02 9.69e-01 2.26e+01  -1.0 1.31e+03    -  4.25e-01 4.25e-01H  1\n",
      "  14 -3.1090755e+02 1.56e+01 1.52e+01  -1.0 4.63e+02    -  8.79e-01 7.33e-01h  1\n",
      "  15 -3.4765944e+02 1.45e+00 7.67e+04  -1.0 1.11e+02    -  6.57e-04 7.27e-01f  1\n",
      "  16 -3.5124800e+02 1.22e+00 6.42e+04  -1.0 1.04e+02    -  6.38e-02 1.62e-01f  1\n",
      "  17 -3.6881022e+02 3.06e+00 4.33e+03  -1.0 9.47e+01    -  5.54e-02 9.33e-01f  1\n",
      "  18 -3.7067946e+02 8.21e-04 4.72e+04  -1.0 3.05e+01    -  6.59e-01 9.90e-01h  1\n",
      "  19 -3.7089338e+02 8.19e-06 1.03e+07  -1.0 1.19e+01    -  1.00e+00 9.90e-01h  1\n",
      "iter    objective    inf_pr   inf_du lg(mu)  ||d||  lg(rg) alpha_du alpha_pr  ls\n",
      "  20 -3.7087410e+02 9.01e-08 2.82e+08  -1.0 3.46e+01    -  1.00e+00 9.92e-01h  1\n",
      "  21 -3.7087396e+02 2.16e-12 6.08e+06  -1.0 6.71e+00    -  1.00e+00 1.00e+00h  1\n",
      "  22 -3.7087396e+02 8.88e-15 3.27e+02  -1.0 5.01e-01    -  1.00e+00 1.00e+00h  1\n",
      "  23 -3.7341840e+02 9.83e-05 3.65e+04  -3.8 2.49e+00    -  9.84e-01 9.80e-01f  1\n",
      "  24 -3.7346966e+02 9.77e-09 7.07e+01  -3.8 4.37e-02    -  1.00e+00 1.00e+00h  1\n",
      "  25 -3.7346967e+02 4.44e-14 8.31e-06  -3.8 3.93e-03    -  1.00e+00 1.00e+00h  1\n",
      "  26 -3.7347358e+02 2.18e-10 6.52e-03  -8.0 3.74e-03    -  1.00e+00 1.00e+00f  1\n",
      "Reallocating memory for MA57: lfact (5890)\n",
      "  27 -3.7347358e+02 1.07e-14 5.65e-13  -8.0 4.64e-07    -  1.00e+00 1.00e+00h  1\n",
      "\n",
      "Number of Iterations....: 27\n",
      "\n",
      "                                   (scaled)                 (unscaled)\n",
      "Objective...............:  -3.7347358221802131e+02   -3.7347358221802131e+02\n",
      "Dual infeasibility......:   5.6543658644159223e-13    5.6543658644159223e-13\n",
      "Constraint violation....:   1.0658141036401503e-14    1.0658141036401503e-14\n",
      "Variable bound violation:   0.0000000000000000e+00    0.0000000000000000e+00\n",
      "Complementarity.........:   9.0909161312877724e-09    9.0909161312877724e-09\n",
      "Overall NLP error.......:   9.0909161312877724e-09    9.0909161312877724e-09\n",
      "\n",
      "\n",
      "Number of objective function evaluations             = 32\n",
      "Number of objective gradient evaluations             = 28\n",
      "Number of equality constraint evaluations            = 32\n",
      "Number of inequality constraint evaluations          = 32\n",
      "Number of equality constraint Jacobian evaluations   = 28\n",
      "Number of inequality constraint Jacobian evaluations = 28\n",
      "Number of Lagrangian Hessian evaluations             = 27\n",
      "Total seconds in IPOPT                               = 0.014\n",
      "\n",
      "EXIT: Optimal Solution Found.\n"
     ]
    }
   ],
   "source": [
    "y_sol, alpha_sol, n_sol = fopt.flux_ent_opt(obj_coefs,vcount_upper_bound,f_log_counts,S,Keq)"
   ]
  },
  {
   "cell_type": "markdown",
   "metadata": {},
   "source": [
    "### SAVE THE SOLUTION"
   ]
  },
  {
   "cell_type": "code",
   "execution_count": 29,
   "metadata": {},
   "outputs": [],
   "source": [
    "#### Save the solution\n",
    "\n",
    "save_file = 'max_flux_glyc_exmp_solution.pkl'\n",
    "\n",
    "\n",
    "baf.save_model_solution(save_file,y_sol,alpha_sol,n_sol,S,Keq,f_log_counts,vcount_upper_bound,obj_coefs)\n"
   ]
  },
  {
   "cell_type": "code",
   "execution_count": null,
   "metadata": {},
   "outputs": [],
   "source": []
  }
 ],
 "metadata": {
  "kernelspec": {
   "display_name": "anaconda3-2021.11",
   "language": "python",
   "name": "anaconda3-2021.11"
  },
  "language_info": {
   "codemirror_mode": {
    "name": "ipython",
    "version": 3
   },
   "file_extension": ".py",
   "mimetype": "text/x-python",
   "name": "python",
   "nbconvert_exporter": "python",
   "pygments_lexer": "ipython3",
   "version": "3.9.7"
  },
  "vscode": {
   "interpreter": {
    "hash": "e230c1d1e18d8f5f36ab37f4542fb0fe9e269fa50c6e19a711eb619dc1a5962e"
   }
  }
 },
 "nbformat": 4,
 "nbformat_minor": 4
}
