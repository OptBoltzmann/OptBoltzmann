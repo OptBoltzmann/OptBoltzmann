{
 "cells": [
  {
   "cell_type": "code",
   "execution_count": 34,
   "metadata": {},
   "outputs": [],
   "source": [
    "import numpy as np\n",
    "import pandas as pd\n",
    "import matplotlib.pyplot as plt\n",
    "import matplotlib\n",
    "import subprocess\n",
    "import sys\n",
    "import re\n",
    "import os\n",
    "import warnings\n",
    "\n",
    "from scipy.optimize import least_squares\n",
    "import scipy.linalg as spL\n",
    "\n",
    "from IPython.core.display import display\n",
    "from IPython.core.debugger import set_trace\n",
    "pd.set_option('display.max_columns', None,'display.max_rows', None)\n",
    "\n",
    "warnings.filterwarnings('ignore')\n",
    "\n",
    "from importlib import reload"
   ]
  },
  {
   "cell_type": "code",
   "execution_count": 35,
   "metadata": {},
   "outputs": [
    {
     "data": {
      "text/plain": [
       "<module 'solution_analysis_utils' from '/Users/king339/Projects/Predictive_Phenomics/Code/Bolt/01_Glycolosis_Example/../Modules/solution_analysis_utils.py'>"
      ]
     },
     "execution_count": 35,
     "metadata": {},
     "output_type": "execute_result"
    }
   ],
   "source": [
    "# Import the neccessary modules\n",
    "\n",
    "Module_path = '../Modules'  #specify path to modules folder, change as needed for environment\n",
    "\n",
    "\n",
    "sys.path.insert(0,Module_path)\n",
    "\n",
    "\n",
    "\n",
    "import base_functions as baf\n",
    "reload(baf)\n",
    "import solution_analysis_utils as sa\n",
    "reload(sa)"
   ]
  },
  {
   "cell_type": "markdown",
   "metadata": {},
   "source": [
    "## Import a Solution"
   ]
  },
  {
   "cell_type": "code",
   "execution_count": 36,
   "metadata": {
    "scrolled": false
   },
   "outputs": [],
   "source": [
    "import pickle\n",
    "\n",
    "\n",
    "\n",
    "\n",
    "saved_solution_file = 'max_flux_glyc_exmp_solution.pkl'\n",
    "\n",
    "\n",
    "model_file = 'glycolosis_tca_ppp_prot4.pkl'\n",
    "\n",
    "\n",
    "#Load the model file\n",
    "S_active,active_reactions, metabolites, Keq= baf.load_model(model_file)\n",
    "\n",
    "\n",
    "#load the solution file\n",
    "y_sol,alpha_sol,n_sol,S,Keq,f_log_counts,vcount_upper_bound,obj_coefs = baf.load_model_solution(saved_solution_file)\n"
   ]
  },
  {
   "cell_type": "markdown",
   "metadata": {},
   "source": [
    "# Computing Equivalent Solutions\n",
    "\n",
    "Only a subset of the reactions and metabolites are restricted at solutions. There is a subset of metabolites and fluxes that can be varied. \n",
    "\n",
    "\n"
   ]
  },
  {
   "cell_type": "markdown",
   "metadata": {},
   "source": [
    "## Identify the Fixed and Free Metabolites and Reactions"
   ]
  },
  {
   "cell_type": "markdown",
   "metadata": {},
   "source": [
    "### Find the restricted metabolites and reactions"
   ]
  },
  {
   "cell_type": "markdown",
   "metadata": {},
   "source": [
    "Find the gradient direction\n",
    "\n",
    "\n",
    "We can understand the objective maximize sum(y) \n",
    "\n",
    "as instead the objective maximize_(beta) ( gamma_1\\*beta_1 + gamma_2\\*beta_2 ...)\n",
    "and compute gradient direction with respect to beta"
   ]
  },
  {
   "cell_type": "code",
   "execution_count": 37,
   "metadata": {},
   "outputs": [],
   "source": [
    "\n",
    "### compute decompositions of the stochiometric matrix\n",
    "S_v, S_f, Sv_N = baf.reduced_Stoich(S,f_log_counts,vcount_upper_bound)\n",
    "\n",
    "\n",
    "## find the gradient direction projected into the steady state subspace\n",
    "obj_coefs = np.reshape(np.ravel(obj_coefs),(1,len(obj_coefs)))\n",
    "beta_grad = np.matmul(obj_coefs,Sv_N)\n",
    "beta_grad = np.transpose(beta_grad)"
   ]
  },
  {
   "cell_type": "code",
   "execution_count": 38,
   "metadata": {},
   "outputs": [],
   "source": [
    "\n",
    "### Find the consistency equations that must be active at solutions\n",
    "\n",
    "restricted_reactions = sa.obj_restricted_rxns(beta_grad,y_sol,n_sol,f_log_counts,Sv_N,S_v,S_f,Keq)\n",
    "\n",
    "\n",
    "#compute basis for allowable free metabolite changes\n",
    "\n",
    "N_Svr = sa.free_metabolite_basis(restricted_reactions,S_v)"
   ]
  },
  {
   "cell_type": "markdown",
   "metadata": {},
   "source": [
    "## Equivalent Solutions with Maximum and Minimum Total Metabolite Counts"
   ]
  },
  {
   "cell_type": "code",
   "execution_count": 39,
   "metadata": {},
   "outputs": [],
   "source": [
    "\n",
    "max_n_tot, max_n_alpha_tot = sa.max_min_total_metabolite_sol(y_sol,n_sol,N_Svr,vcount_upper_bound,f_log_counts,np.transpose(S),S_v,S_f,Keq,sense = 'max') \n",
    "\n",
    "min_n_tot, min_n_alpha_tot = sa.max_min_total_metabolite_sol(y_sol,n_sol,N_Svr,vcount_upper_bound,f_log_counts,np.transpose(S),S_v,S_f,Keq,sense = 'min') "
   ]
  },
  {
   "cell_type": "markdown",
   "metadata": {},
   "source": [
    "## Equivalent Solutions with Maximum and Minimum Toatal Activity Coefficients"
   ]
  },
  {
   "cell_type": "code",
   "execution_count": 40,
   "metadata": {},
   "outputs": [],
   "source": [
    "\n",
    "max_n_ac_tot, max_ac_alpha_tot = sa.max_min_total_activity_sol(y_sol,n_sol,N_Svr,vcount_upper_bound,f_log_counts,np.transpose(S),S_v,S_f,Keq,sense = 'max') \n",
    "\n",
    "min_n_ac_tot, min_ac_alpha_tot = sa.max_min_total_activity_sol(y_sol,n_sol,N_Svr,vcount_upper_bound,f_log_counts,np.transpose(S),S_v,S_f,Keq,sense = 'min') "
   ]
  },
  {
   "cell_type": "markdown",
   "metadata": {},
   "source": [
    "## For Each Metabolite Identify the Maximum and Minimum Possible Counts"
   ]
  },
  {
   "cell_type": "code",
   "execution_count": 41,
   "metadata": {},
   "outputs": [
    {
     "data": {
      "text/html": [
       "<div>\n",
       "<style scoped>\n",
       "    .dataframe tbody tr th:only-of-type {\n",
       "        vertical-align: middle;\n",
       "    }\n",
       "\n",
       "    .dataframe tbody tr th {\n",
       "        vertical-align: top;\n",
       "    }\n",
       "\n",
       "    .dataframe thead th {\n",
       "        text-align: right;\n",
       "    }\n",
       "</style>\n",
       "<table border=\"1\" class=\"dataframe\">\n",
       "  <thead>\n",
       "    <tr style=\"text-align: right;\">\n",
       "      <th></th>\n",
       "      <th>Conc</th>\n",
       "      <th>Conc_Experimental</th>\n",
       "      <th>Variable</th>\n",
       "      <th>Max Possible</th>\n",
       "      <th>Min Possible</th>\n",
       "      <th>Min total solution</th>\n",
       "      <th>Max total solution</th>\n",
       "    </tr>\n",
       "  </thead>\n",
       "  <tbody>\n",
       "    <tr>\n",
       "      <th>D-FRUCTOSE_1,6-BISPHOSPHATE:CYTOSOL</th>\n",
       "      <td>0.001</td>\n",
       "      <td>0.0152</td>\n",
       "      <td>True</td>\n",
       "      <td>12.484126</td>\n",
       "      <td>-10.209962</td>\n",
       "      <td>-10.209962</td>\n",
       "      <td>12.484126</td>\n",
       "    </tr>\n",
       "  </tbody>\n",
       "</table>\n",
       "</div>"
      ],
      "text/plain": [
       "                                      Conc  Conc_Experimental  Variable  \\\n",
       "D-FRUCTOSE_1,6-BISPHOSPHATE:CYTOSOL  0.001             0.0152      True   \n",
       "\n",
       "                                     Max Possible  Min Possible  \\\n",
       "D-FRUCTOSE_1,6-BISPHOSPHATE:CYTOSOL     12.484126    -10.209962   \n",
       "\n",
       "                                     Min total solution  Max total solution  \n",
       "D-FRUCTOSE_1,6-BISPHOSPHATE:CYTOSOL          -10.209962           12.484126  "
      ]
     },
     "metadata": {},
     "output_type": "display_data"
    }
   ],
   "source": [
    "Metabolite_sol_summary = metabolites[metabolites['Variable'] == True]\n",
    "n_react = S.shape[0]\n",
    "n_M_v = len(vcount_upper_bound)\n",
    "metabolite_indexes = np.arange(0,n_react,1)\n",
    "\n",
    "max_n_list = []\n",
    "min_n_list = []\n",
    "for i in range(n_M_v):\n",
    "    metab_index = np.array([i])\n",
    "\n",
    "    max_n, max_n_alpha = sa.max_min_subset_metabolite_sol(metab_index,y_sol,n_sol,N_Svr,vcount_upper_bound,f_log_counts,np.transpose(S),S_v,S_f,Keq,sense = 'max') \n",
    "\n",
    "    min_n, min_n_alpha = sa.max_min_subset_metabolite_sol(metab_index,y_sol,n_sol,N_Svr,vcount_upper_bound,f_log_counts,np.transpose(S),S_v,S_f,Keq,sense = 'min')\n",
    "\n",
    "    max_n_list.append(max_n[i])\n",
    "    min_n_list.append(min_n[i]) \n",
    "    \n",
    "\n",
    "Metabolite_sol_summary['Max Possible'] = max_n_list\n",
    "Metabolite_sol_summary['Min Possible'] = min_n_list\n",
    "\n",
    "Metabolite_sol_summary['Min total solution'] = min_n_tot\n",
    "Metabolite_sol_summary['Max total solution'] = max_n_tot\n",
    "\n",
    "#display(Metabolite_sol_summary)\n",
    "\n",
    "### find the metabolites that can vary and print those\n",
    "display(Metabolite_sol_summary[ np.abs(Metabolite_sol_summary['Max Possible'] - Metabolite_sol_summary['Min Possible'] )> 1e-10  ])\n"
   ]
  },
  {
   "cell_type": "markdown",
   "metadata": {},
   "source": [
    "## For Each Reaction Identify the Maximum and Minimum Possible Activity Coefficient Choices"
   ]
  },
  {
   "cell_type": "code",
   "execution_count": 42,
   "metadata": {},
   "outputs": [
    {
     "data": {
      "text/html": [
       "<div>\n",
       "<style scoped>\n",
       "    .dataframe tbody tr th:only-of-type {\n",
       "        vertical-align: middle;\n",
       "    }\n",
       "\n",
       "    .dataframe tbody tr th {\n",
       "        vertical-align: top;\n",
       "    }\n",
       "\n",
       "    .dataframe thead th {\n",
       "        text-align: right;\n",
       "    }\n",
       "</style>\n",
       "<table border=\"1\" class=\"dataframe\">\n",
       "  <thead>\n",
       "    <tr style=\"text-align: right;\">\n",
       "      <th></th>\n",
       "      <th>LEFT</th>\n",
       "      <th>RIGHT</th>\n",
       "      <th>Full Rxn</th>\n",
       "      <th>Solution Flux</th>\n",
       "      <th>Max Possible activity</th>\n",
       "      <th>Min Possible activity</th>\n",
       "      <th>Max Total Activity</th>\n",
       "      <th>Min Total Activity</th>\n",
       "    </tr>\n",
       "  </thead>\n",
       "  <tbody>\n",
       "    <tr>\n",
       "      <th>FBA</th>\n",
       "      <td>D-FRUCTOSE_1,6-BISPHOSPHATE:CYTOSOL</td>\n",
       "      <td>GLYCERONE_PHOSPHATE:CYTOSOL + D-GLYCERALDEHYDE...</td>\n",
       "      <td>D-FRUCTOSE_1,6-BISPHOSPHATE:CYTOSOL = GLYCERON...</td>\n",
       "      <td>1.102045</td>\n",
       "      <td>9.649060e-08</td>\n",
       "      <td>1.344522e-17</td>\n",
       "      <td>1.344522e-17</td>\n",
       "      <td>1.344522e-17</td>\n",
       "    </tr>\n",
       "    <tr>\n",
       "      <th>PFK</th>\n",
       "      <td>D-FRUCTOSE_6-PHOSPHATE:CYTOSOL + ATP:CYTOSOL</td>\n",
       "      <td>ADP:CYTOSOL + D-FRUCTOSE_1,6-BISPHOSPHATE:CYTOSOL</td>\n",
       "      <td>D-FRUCTOSE_6-PHOSPHATE:CYTOSOL + ATP:CYTOSOL =...</td>\n",
       "      <td>1.102045</td>\n",
       "      <td>1.000000e+00</td>\n",
       "      <td>9.071522e-11</td>\n",
       "      <td>1.000000e+00</td>\n",
       "      <td>1.000000e+00</td>\n",
       "    </tr>\n",
       "  </tbody>\n",
       "</table>\n",
       "</div>"
      ],
      "text/plain": [
       "                                             LEFT  \\\n",
       "FBA           D-FRUCTOSE_1,6-BISPHOSPHATE:CYTOSOL   \n",
       "PFK  D-FRUCTOSE_6-PHOSPHATE:CYTOSOL + ATP:CYTOSOL   \n",
       "\n",
       "                                                 RIGHT  \\\n",
       "FBA  GLYCERONE_PHOSPHATE:CYTOSOL + D-GLYCERALDEHYDE...   \n",
       "PFK  ADP:CYTOSOL + D-FRUCTOSE_1,6-BISPHOSPHATE:CYTOSOL   \n",
       "\n",
       "                                              Full Rxn  Solution Flux  \\\n",
       "FBA  D-FRUCTOSE_1,6-BISPHOSPHATE:CYTOSOL = GLYCERON...       1.102045   \n",
       "PFK  D-FRUCTOSE_6-PHOSPHATE:CYTOSOL + ATP:CYTOSOL =...       1.102045   \n",
       "\n",
       "     Max Possible activity  Min Possible activity  Max Total Activity  \\\n",
       "FBA           9.649060e-08           1.344522e-17        1.344522e-17   \n",
       "PFK           1.000000e+00           9.071522e-11        1.000000e+00   \n",
       "\n",
       "     Min Total Activity  \n",
       "FBA        1.344522e-17  \n",
       "PFK        1.000000e+00  "
      ]
     },
     "metadata": {},
     "output_type": "display_data"
    }
   ],
   "source": [
    "\n",
    "Reaction_sol_summary = active_reactions[['LEFT','RIGHT','Full Rxn']]\n",
    "\n",
    "reaction_indexes = np.arange(0,n_react,1)\n",
    "\n",
    "max_ac_list = []\n",
    "min_ac_list = []\n",
    "for j in range(n_react):\n",
    "    rxn_index = np.array([j])\n",
    "\n",
    "    max_n_ac, max_ac_alpha = sa.max_min_subset_activity_sol(rxn_index,y_sol,n_sol,N_Svr,vcount_upper_bound,f_log_counts,np.transpose(S),S_v,S_f,Keq,sense = 'max') \n",
    "\n",
    "    min_n_ac, min_ac_alpha = sa.max_min_subset_activity_sol(rxn_index,y_sol,n_sol,N_Svr,vcount_upper_bound,f_log_counts,np.transpose(S),S_v,S_f,Keq,sense = 'min')\n",
    "\n",
    "    max_ac_list.append(max_ac_alpha[j])\n",
    "    min_ac_list.append(min_ac_alpha[j]) \n",
    "    \n",
    "\n",
    "\n",
    "Reaction_sol_summary['Solution Flux'] = y_sol\n",
    "Reaction_sol_summary['Max Possible activity'] = max_ac_list\n",
    "Reaction_sol_summary['Min Possible activity'] = min_ac_list\n",
    "\n",
    "\n",
    "Reaction_sol_summary['Max Total Activity'] = max_ac_alpha_tot\n",
    "Reaction_sol_summary['Min Total Activity'] = min_ac_alpha_tot\n",
    "\n",
    "\n",
    "#display(Reaction_sol_summary)\n",
    "\n",
    "\n",
    "### find the reactions where the activity coefficient can vary and print those\n",
    "display(Reaction_sol_summary[ np.abs(Reaction_sol_summary['Max Possible activity'] - Reaction_sol_summary['Min Possible activity'] )>= 1e-10  ])"
   ]
  }
 ],
 "metadata": {
  "gist": {
   "data": {
    "description": "CentralMetabolism_example.ipynb",
    "public": true
   },
   "id": ""
  },
  "hide_input": false,
  "interpreter": {
   "hash": "e230c1d1e18d8f5f36ab37f4542fb0fe9e269fa50c6e19a711eb619dc1a5962e"
  },
  "kernelspec": {
   "display_name": "Python 3.9.7 ('Rubrum')",
   "language": "python",
   "name": "python3"
  },
  "language_info": {
   "codemirror_mode": {
    "name": "ipython",
    "version": 3
   },
   "file_extension": ".py",
   "mimetype": "text/x-python",
   "name": "python",
   "nbconvert_exporter": "python",
   "pygments_lexer": "ipython3",
   "version": "3.9.7"
  },
  "latex_envs": {
   "LaTeX_envs_menu_present": true,
   "autocomplete": false,
   "bibliofile": "whitepaper.bib",
   "cite_by": "apalike",
   "current_citInitial": 1,
   "eqLabelWithNumbers": true,
   "eqNumInitial": 1,
   "hotkeys": {
    "equation": "Ctrl-E",
    "itemize": "Ctrl-I"
   },
   "labels_anchors": false,
   "latex_user_defs": false,
   "report_style_numbering": false,
   "user_envs_cfg": true
  },
  "toc": {
   "colors": {
    "hover_highlight": "#DAA520",
    "running_highlight": "#FF0000",
    "selected_highlight": "#FFD700"
   },
   "moveMenuLeft": true,
   "nav_menu": {
    "height": "12px",
    "width": "252px"
   },
   "navigate_menu": true,
   "number_sections": true,
   "sideBar": true,
   "threshold": 4,
   "toc_cell": true,
   "toc_section_display": "block",
   "toc_window_display": true,
   "widenNotebook": false
  }
 },
 "nbformat": 4,
 "nbformat_minor": 2
}
