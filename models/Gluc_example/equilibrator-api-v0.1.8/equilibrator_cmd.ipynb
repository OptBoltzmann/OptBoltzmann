{
 "cells": [
  {
   "cell_type": "code",
   "execution_count": 1,
   "metadata": {},
   "outputs": [],
   "source": [
    "import argparse\n",
    "from equilibrator_api import Reaction, ComponentContribution, ReactionMatcher, CompoundMatcher, ParseError, Pathway\n",
    "from equilibrator_api.bounds import Bounds\n",
    "from ipywidgets import interact, interactive, fixed, interact_manual\n",
    "import ipywidgets as widgets\n",
    "import matplotlib.pyplot as plt\n",
    "%matplotlib inline"
   ]
  },
  {
   "cell_type": "markdown",
   "metadata": {},
   "source": [
    "## Simple $\\Delta G'^\\circ$ calculations"
   ]
  },
  {
   "cell_type": "code",
   "execution_count": 2,
   "metadata": {},
   "outputs": [
    {
     "name": "stdout",
     "output_type": "stream",
     "text": [
      "C00002 + C00001 = C00008 + C00009\n",
      "\n",
      "ΔG'° = -26.39 ± 1.19 [kJ/mol]\n",
      "\n",
      "ΔG'm = -43.51 ± 1.19 [kJ/mol]\n",
      "\n",
      "Concentrations:\n",
      "C00002 : 0.001 [M]\n",
      "C00009 : 0.0001 [M]\n",
      "C00008 : 0.003 [M]\n",
      "\n",
      "ΔG' = -46.49 ± 1.19 [kJ/mol]\n"
     ]
    }
   ],
   "source": [
    "kegg_id_to_coeff = {'C00002' : -1, 'C00001' : -1,\n",
    "                    'C00008' :  1, 'C00009' :  1} # ATP + H2O = ADP + Pi\n",
    "kegg_id_to_conc  = {'C00002' : 1e-3,\n",
    "                    'C00009' :  1e-4,\n",
    "                    'C00008' : 3e-3}\n",
    "reaction = Reaction(kegg_id_to_coeff)\n",
    "cc = ComponentContribution(pH=7.0, ionic_strength=0.1)\n",
    "dG0_prime, dG0_uncertainty = cc.dG0_prime(reaction)\n",
    "\n",
    "print(reaction)\n",
    "dG0_prime, dG0_uncertainty = cc.dG0_prime(reaction)\n",
    "print(\"\\nΔG'° = %.2f ± %.2f [kJ/mol]\" % (dG0_prime, 1.96 * dG0_uncertainty))\n",
    "\n",
    "dGm_prime, dGm_uncertainty = cc.dGm_prime(reaction)\n",
    "print(\"\\nΔG'm = %.2f ± %.2f [kJ/mol]\" % (dGm_prime, 1.96 * dGm_uncertainty))\n",
    "\n",
    "print('\\nConcentrations:')\n",
    "for cid, conc in kegg_id_to_conc.items():\n",
    "    print('%s : %g [M]' % (cid, conc))\n",
    "dG_prime, dG_uncertainty = cc.dG_prime(reaction, kegg_id_to_conc)\n",
    "print(\"\\nΔG' = %.2f ± %.2f [kJ/mol]\" % (dG_prime, 1.96 * dG_uncertainty))\n"
   ]
  },
  {
   "cell_type": "markdown",
   "metadata": {},
   "source": [
    "The ± range represents the 95% confidence interval due to Component Contribution estimation uncertainty"
   ]
  },
  {
   "cell_type": "markdown",
   "metadata": {},
   "source": [
    "## Reaction matching and $\\Delta G'^\\circ$ estimation"
   ]
  },
  {
   "cell_type": "code",
   "execution_count": 3,
   "metadata": {},
   "outputs": [],
   "source": [
    "reaction_matcher = ReactionMatcher()\n",
    "\n",
    "def estimate_dG0(plaintext, pH=7.0, I=0.1):\n",
    "    # parse the reaction\n",
    "    try:\n",
    "        reaction = reaction_matcher.match(plaintext)\n",
    "    except ParseError:\n",
    "        print('incomplete formula')\n",
    "        return\n",
    "    except ValueError as e:\n",
    "        print(e)\n",
    "        return\n",
    "\n",
    "    html = '<p>pH = %.2f, I = %.2f M</br>KEGG reaction: %s</br></p>' % (pH, I, reaction.write_formula())\n",
    "    \n",
    "    equilibrator = ComponentContribution(pH=pH, ionic_strength=I)\n",
    "    \n",
    "    n_e = reaction.check_half_reaction_balancing()\n",
    "    if n_e is None:\n",
    "        html += '<p>ERROR: reaction is not chemically balanced</p>'\n",
    "    elif n_e == 0:\n",
    "        dG0_prime, dG0_uncertainty = equilibrator.dG0_prime(reaction)\n",
    "        html += \"<h2>\\u0394G\\'\\u00B0 = %.2f \\u00B1 %.2f kJ/mol</h2>\" % (dG0_prime, 1.96 * dG0_uncertainty)\n",
    "        ln_RI = equilibrator.reversibility_index(reaction)\n",
    "        html += '<p>ln(Reversibility Index) = %.1f</p>' % ln_RI\n",
    "\n",
    "    else:  # treat as a half-reaction\n",
    "        E0_prime_mV, E0_uncertainty = equilibrator.E0_prime(reaction)\n",
    "        html += '<h2>E\\'\\u00B0 = %.1f \\u00B1 %.1f mV</h2>' % (E0_prime_mV, E0_uncertainty)\n",
    "\n",
    "    w = widgets.HTML(html)\n",
    "    display(w)\n",
    "        "
   ]
  },
  {
   "cell_type": "code",
   "execution_count": 4,
   "metadata": {},
   "outputs": [
    {
     "data": {
      "application/vnd.jupyter.widget-view+json": {
       "model_id": "5bbc391ec6964361be52c4cbd319bf0e",
       "version_major": 2,
       "version_minor": 0
      },
      "text/plain": [
       "A Jupyter Widget"
      ]
     },
     "metadata": {},
     "output_type": "display_data"
    }
   ],
   "source": [
    "interact(estimate_dG0,\n",
    "         plaintext=widgets.Text(value='glucose = fructose', font_size=20),\n",
    "         pH=widgets.FloatSlider(min=0,max=14,step=0.25,value=7),\n",
    "         I=widgets.FloatSlider(min=0,max=0.5,step=0.02,value=0.1));"
   ]
  },
  {
   "cell_type": "markdown",
   "metadata": {},
   "source": [
    "The ± range represents the 95% confidence interval due to Component Contribution estimation uncertainty"
   ]
  },
  {
   "cell_type": "markdown",
   "metadata": {},
   "source": [
    "## Single metabolite search"
   ]
  },
  {
   "cell_type": "code",
   "execution_count": 5,
   "metadata": {},
   "outputs": [],
   "source": [
    "compound_matcher = CompoundMatcher()\n",
    "df = compound_matcher.compound_df"
   ]
  },
  {
   "cell_type": "code",
   "execution_count": 6,
   "metadata": {},
   "outputs": [
    {
     "data": {
      "text/html": [
       "<div>\n",
       "<style scoped>\n",
       "    .dataframe tbody tr th:only-of-type {\n",
       "        vertical-align: middle;\n",
       "    }\n",
       "\n",
       "    .dataframe tbody tr th {\n",
       "        vertical-align: top;\n",
       "    }\n",
       "\n",
       "    .dataframe thead th {\n",
       "        text-align: right;\n",
       "    }\n",
       "</style>\n",
       "<table border=\"1\" class=\"dataframe\">\n",
       "  <thead>\n",
       "    <tr style=\"text-align: right;\">\n",
       "      <th></th>\n",
       "      <th>CID</th>\n",
       "      <th>compound_name</th>\n",
       "      <th>lowercase_name</th>\n",
       "    </tr>\n",
       "  </thead>\n",
       "  <tbody>\n",
       "    <tr>\n",
       "      <th>150</th>\n",
       "      <td>C00031</td>\n",
       "      <td>D-Glucose</td>\n",
       "      <td>d-glucose</td>\n",
       "    </tr>\n",
       "    <tr>\n",
       "      <th>151</th>\n",
       "      <td>C00031</td>\n",
       "      <td>Dextrose</td>\n",
       "      <td>dextrose</td>\n",
       "    </tr>\n",
       "    <tr>\n",
       "      <th>152</th>\n",
       "      <td>C00031</td>\n",
       "      <td>Glucose</td>\n",
       "      <td>glucose</td>\n",
       "    </tr>\n",
       "    <tr>\n",
       "      <th>153</th>\n",
       "      <td>C00031</td>\n",
       "      <td>Grape sugar</td>\n",
       "      <td>grape sugar</td>\n",
       "    </tr>\n",
       "    <tr>\n",
       "      <th>154</th>\n",
       "      <td>C00031</td>\n",
       "      <td>beta-D-Glucose</td>\n",
       "      <td>beta-d-glucose</td>\n",
       "    </tr>\n",
       "    <tr>\n",
       "      <th>155</th>\n",
       "      <td>C00031</td>\n",
       "      <td>alpha-D-Glucose</td>\n",
       "      <td>alpha-d-glucose</td>\n",
       "    </tr>\n",
       "    <tr>\n",
       "      <th>156</th>\n",
       "      <td>C00031</td>\n",
       "      <td>C00031</td>\n",
       "      <td>c00031</td>\n",
       "    </tr>\n",
       "  </tbody>\n",
       "</table>\n",
       "</div>"
      ],
      "text/plain": [
       "        CID    compound_name   lowercase_name\n",
       "150  C00031        D-Glucose        d-glucose\n",
       "151  C00031         Dextrose         dextrose\n",
       "152  C00031          Glucose          glucose\n",
       "153  C00031      Grape sugar      grape sugar\n",
       "154  C00031   beta-D-Glucose   beta-d-glucose\n",
       "155  C00031  alpha-D-Glucose  alpha-d-glucose\n",
       "156  C00031           C00031           c00031"
      ]
     },
     "execution_count": 6,
     "metadata": {},
     "output_type": "execute_result"
    }
   ],
   "source": [
    "df[df.CID == 'C00031']"
   ]
  },
  {
   "cell_type": "code",
   "execution_count": 7,
   "metadata": {},
   "outputs": [
    {
     "name": "stdout",
     "output_type": "stream",
     "text": [
      "        CID   compound_name  lowercase_name  score\n",
      "154  C00031  beta-D-Glucose  beta-d-glucose    1.0\n"
     ]
    }
   ],
   "source": [
    "def get_closest_matches(plaintext):\n",
    "    # find matching compound names\n",
    "    matches = compound_matcher.match(plaintext)\n",
    "    \n",
    "    print(matches)\n",
    "    \n",
    "\n",
    "get_closest_matches('beta-D-glucose')"
   ]
  },
  {
   "cell_type": "code",
   "execution_count": 8,
   "metadata": {
    "scrolled": false
   },
   "outputs": [],
   "source": [
    "matches = compound_matcher.match('beta-D-glucose')\n"
   ]
  },
  {
   "cell_type": "code",
   "execution_count": 9,
   "metadata": {
    "scrolled": true
   },
   "outputs": [
    {
     "data": {
      "text/html": [
       "<div>\n",
       "<style scoped>\n",
       "    .dataframe tbody tr th:only-of-type {\n",
       "        vertical-align: middle;\n",
       "    }\n",
       "\n",
       "    .dataframe tbody tr th {\n",
       "        vertical-align: top;\n",
       "    }\n",
       "\n",
       "    .dataframe thead th {\n",
       "        text-align: right;\n",
       "    }\n",
       "</style>\n",
       "<table border=\"1\" class=\"dataframe\">\n",
       "  <thead>\n",
       "    <tr style=\"text-align: right;\">\n",
       "      <th></th>\n",
       "      <th>CID</th>\n",
       "      <th>compound_name</th>\n",
       "      <th>lowercase_name</th>\n",
       "      <th>score</th>\n",
       "    </tr>\n",
       "  </thead>\n",
       "  <tbody>\n",
       "    <tr>\n",
       "      <th>154</th>\n",
       "      <td>C00031</td>\n",
       "      <td>beta-D-Glucose</td>\n",
       "      <td>beta-d-glucose</td>\n",
       "      <td>1.0</td>\n",
       "    </tr>\n",
       "  </tbody>\n",
       "</table>\n",
       "</div>"
      ],
      "text/plain": [
       "        CID   compound_name  lowercase_name  score\n",
       "154  C00031  beta-D-Glucose  beta-d-glucose    1.0"
      ]
     },
     "execution_count": 9,
     "metadata": {},
     "output_type": "execute_result"
    }
   ],
   "source": [
    "matches.sort_values('score')"
   ]
  },
  {
   "cell_type": "markdown",
   "metadata": {},
   "source": [
    "## Max-min Driving Force (MDF) example"
   ]
  },
  {
   "cell_type": "code",
   "execution_count": 10,
   "metadata": {},
   "outputs": [],
   "source": [
    "reactions = ['C00092 + C00006 <=> C01236 + C00005',\n",
    "             'C01236 + C00001 <=> C00345',\n",
    "             'C00345 + C00006 <=> C00199 + C00011 + C00005']\n",
    "reactions = list(map(Reaction.parse_formula, reactions))\n",
    "fluxes = [1.0, 1.0, 1.0]\n",
    "dG0_r_primes = list(map(lambda rxn: rxn.dG0_prime(), reactions))\n",
    "bounds = Bounds(default_lb=1e-6, default_ub=1e-2)\n",
    "pp = Pathway(reactions, fluxes, dG0_r_primes, bounds=bounds)\n",
    "\n",
    "mdf_data = pp.calc_mdf()"
   ]
  },
  {
   "cell_type": "code",
   "execution_count": 14,
   "metadata": {},
   "outputs": [
    {
     "name": "stdout",
     "output_type": "stream",
     "text": [
      "MDF = 28.74 kJ/mol\n"
     ]
    },
    {
     "name": "stderr",
     "output_type": "stream",
     "text": [
      "/usr/local/lib/python3.6/dist-packages/matplotlib/figure.py:445: UserWarning: Matplotlib is currently using module://ipykernel.pylab.backend_inline, which is a non-GUI backend, so cannot show the figure.\n",
      "  % get_backend())\n"
     ]
    },
    {
     "data": {
      "image/png": "[encoded data removed]",
      "text/plain": [
       "<Figure size 648x432 with 1 Axes>"
      ]
     },
     "metadata": {},
     "output_type": "display_data"
    },
    {
     "data": {
      "image/png": "[encoded data removed]",
      "text/plain": [
       "<Figure size 648x432 with 1 Axes>"
      ]
     },
     "metadata": {},
     "output_type": "display_data"
    }
   ],
   "source": [
    "print('MDF = %.2f kJ/mol' % mdf_data.mdf)\n",
    "fig1 = mdf_data.mdf_plot.show()\n",
    "fig2 = mdf_data.conc_plot.show()"
   ]
  }
 ],
 "metadata": {
  "kernelspec": {
   "display_name": "Python 3",
   "language": "python",
   "name": "python3"
  },
  "language_info": {
   "codemirror_mode": {
    "name": "ipython",
    "version": 3
   },
   "file_extension": ".py",
   "mimetype": "text/x-python",
   "name": "python",
   "nbconvert_exporter": "python",
   "pygments_lexer": "ipython3",
   "version": "3.6.7"
  }
 },
 "nbformat": 4,
 "nbformat_minor": 2
}
